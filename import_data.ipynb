{
 "cells": [
  {
   "cell_type": "code",
   "execution_count": 1,
   "id": "dbb13993",
   "metadata": {},
   "outputs": [
    {
     "name": "stdout",
     "output_type": "stream",
     "text": [
      "✓ Directory ready → C:\\Users\\kwame\\Downloads\\Erdos\\data-science-summer-2025-project\\data\n",
      "• Elo file already present → data\\nbaallelo.csv\n",
      "• Downloading Kaggle dataset 'wyattowalsh/basketball' …\n",
      "✓ Kaggle dataset extracted → data\n"
     ]
    }
   ],
   "source": [
    "\n",
    "# import_data.ipynb  ▸  Cell 1\n",
    "# -------------------------------------------------------------\n",
    "# Downloads:\n",
    "#   • data/nbaallelo.csv               (FiveThirtyEight)\n",
    "#   • data/wyattowalsh-basketball/*    (Kaggle, zipped → unzipped)\n",
    "# -------------------------------------------------------------\n",
    "import os\n",
    "import sys\n",
    "import subprocess\n",
    "from shutil import which\n",
    "from pathlib import Path\n",
    "\n",
    "# ------------------------------------------------------------------ #\n",
    "# 1. Make ./data directory\n",
    "# ------------------------------------------------------------------ #\n",
    "DATA_DIR = Path(\"data\")\n",
    "DATA_DIR.mkdir(exist_ok=True)\n",
    "print(f\"✓ Directory ready → {DATA_DIR.resolve()}\")\n",
    "\n",
    "# ------------------------------------------------------------------ #\n",
    "# 2. Download FiveThirtyEight Elo CSV\n",
    "# ------------------------------------------------------------------ #\n",
    "import requests\n",
    "\n",
    "elo_url  = \"https://raw.githubusercontent.com/fivethirtyeight/data/master/nba-elo/nbaallelo.csv\"\n",
    "elo_path = DATA_DIR / \"nbaallelo.csv\"\n",
    "\n",
    "if not elo_path.exists():\n",
    "    print(\"• Downloading FiveThirtyEight Elo data …\")\n",
    "    resp = requests.get(elo_url, timeout=30)\n",
    "    resp.raise_for_status()\n",
    "    elo_path.write_bytes(resp.content)\n",
    "    print(f\"✓ Saved → {elo_path}\")\n",
    "else:\n",
    "    print(f\"• Elo file already present → {elo_path}\")\n",
    "\n",
    "# ------------------------------------------------------------------ #\n",
    "# 3. Download Kaggle dataset using the CLI script\n",
    "# ------------------------------------------------------------------ #\n",
    "dataset_id = \"wyattowalsh/basketball\"\n",
    "print(f\"• Downloading Kaggle dataset '{dataset_id}' …\")\n",
    "\n",
    "kaggle_exe = which(\"kaggle\")  # finds kaggle(.exe) on PATH\n",
    "\n",
    "if kaggle_exe is None:\n",
    "    print(\"\\n🚨 Kaggle CLI not found on PATH.\\n\"\n",
    "          \"    • Activate the Conda env built from environment.yml, OR\\n\"\n",
    "          \"    • Install kaggle in the current environment:\\n\"\n",
    "          \"        pip install kaggle==1.7.4.5\\n\")\n",
    "else:\n",
    "    cmd = [\n",
    "        kaggle_exe, \"datasets\", \"download\",\n",
    "        dataset_id, \"-p\", str(DATA_DIR), \"--unzip\", \"--force\"\n",
    "    ]\n",
    "    try:\n",
    "        subprocess.run(cmd, check=True)\n",
    "        print(f\"✓ Kaggle dataset extracted → {DATA_DIR}\")\n",
    "    except subprocess.CalledProcessError as e:\n",
    "        print(\"\\n⚠️  Kaggle CLI failed.\")\n",
    "        print(\"    • Ensure ~/.kaggle/kaggle.json exists and is valid\")\n",
    "        print(\"    • Accept the dataset’s rules on kaggle.com\")\n",
    "        print(f\"    Kaggle error: {e}\")\n"
   ]
  }
 ],
 "metadata": {
  "kernelspec": {
   "display_name": "erdos_summer_2025_project",
   "language": "python",
   "name": "python3"
  },
  "language_info": {
   "codemirror_mode": {
    "name": "ipython",
    "version": 3
   },
   "file_extension": ".py",
   "mimetype": "text/x-python",
   "name": "python",
   "nbconvert_exporter": "python",
   "pygments_lexer": "ipython3",
   "version": "3.12.11"
  }
 },
 "nbformat": 4,
 "nbformat_minor": 5
}
