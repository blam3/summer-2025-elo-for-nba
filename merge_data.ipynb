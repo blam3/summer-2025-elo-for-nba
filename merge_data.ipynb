{
 "cells": [
  {
   "cell_type": "code",
   "execution_count": 1,
   "id": "a255386c",
   "metadata": {},
   "outputs": [],
   "source": [
    "import pandas as pd\n",
    "from pathlib import Path\n",
    "import io, requests"
   ]
  },
  {
   "cell_type": "markdown",
   "id": "5af1eea0",
   "metadata": {},
   "source": [
    "All columns from the kaggle dataset:\n",
    "\n",
    "`Index(['season_id', 'team_id_home', 'team_abbreviation_home', 'team_name_home',\n",
    "       'game_id', 'game_date', 'matchup_home', 'wl_home', 'min', 'fgm_home',\n",
    "       'fga_home', 'fg_pct_home', 'fg3m_home', 'fg3a_home', 'fg3_pct_home',\n",
    "       'ftm_home', 'fta_home', 'ft_pct_home', 'oreb_home', 'dreb_home',\n",
    "       'reb_home', 'ast_home', 'stl_home', 'blk_home', 'tov_home', 'pf_home',\n",
    "       'pts_home', 'plus_minus_home', 'video_available_home', 'team_id_away',\n",
    "       'team_abbreviation_away', 'team_name_away', 'matchup_away', 'wl_away',\n",
    "       'fgm_away', 'fga_away', 'fg_pct_away', 'fg3m_away', 'fg3a_away',\n",
    "       'fg3_pct_away', 'ftm_away', 'fta_away', 'ft_pct_away', 'oreb_away',\n",
    "       'dreb_away', 'reb_away', 'ast_away', 'stl_away', 'blk_away', 'tov_away',\n",
    "       'pf_away', 'pts_away', 'plus_minus_away', 'video_available_away',\n",
    "       'season_type'],\n",
    "      dtype='object')`"
   ]
  },
  {
   "cell_type": "code",
   "execution_count": 67,
   "id": "e336f02d",
   "metadata": {},
   "outputs": [],
   "source": [
    "# ---------------------------------------------------------------------\n",
    "# 1.  Load Kaggle game metadata (date, season, id)\n",
    "# ---------------------------------------------------------------------\n",
    "CSV_DIR   = Path(\"data/csv\")\n",
    "DATA_DIR  = Path(\"data\")\n",
    "\n",
    "game_df = pd.read_csv(CSV_DIR / \"game.csv\",\n",
    "                      usecols=[\"game_id\", \"game_date\", \"season_id\", \"wl_home\", 'fgm_home',\n",
    "       'fga_home', 'fg_pct_home', 'fg3m_home', 'fg3a_home', 'fg3_pct_home',\n",
    "       'ftm_home', 'fta_home', 'ft_pct_home', 'oreb_home', 'dreb_home',\n",
    "       'reb_home', 'ast_home', 'stl_home', 'blk_home', 'tov_home', 'pf_home',\n",
    "       'plus_minus_home', 'wl_away',\n",
    "       'matchup_away', \n",
    "       'fgm_away', 'fga_away', 'fg_pct_away', 'fg3m_away', 'fg3a_away',\n",
    "       'fg3_pct_away', 'ftm_away', 'fta_away', 'ft_pct_away', 'oreb_away',\n",
    "       'dreb_away', 'reb_away', 'ast_away', 'stl_away', 'blk_away', 'tov_away',\n",
    "       'pf_away', 'pts_away', 'plus_minus_away'])\n",
    "game_df[\"date_game\"] = pd.to_datetime(game_df[\"game_date\"]).dt.date"
   ]
  },
  {
   "cell_type": "code",
   "execution_count": 68,
   "id": "c483a02b",
   "metadata": {},
   "outputs": [],
   "source": [
    "# ---------------------------------------------------------------------\n",
    "# 2.  Load Kaggle line scores (already 1 row per TEAM per GAME)\n",
    "# ---------------------------------------------------------------------\n",
    "line_df = pd.read_csv(CSV_DIR / \"line_score.csv\",\n",
    "                      usecols=[\"game_id\", \"team_abbreviation_home\", \"team_abbreviation_away\", \"pts_home\"])\n",
    "\n",
    "# bring in the date + season\n",
    "kaggle_long = line_df.merge(game_df,\n",
    "                            on=\"game_id\", how=\"inner\")"
   ]
  },
  {
   "cell_type": "code",
   "execution_count": 69,
   "id": "75d7e56b",
   "metadata": {},
   "outputs": [],
   "source": [
    "# ---------------------------------------------------------------------\n",
    "# 3.  Load & reshape FiveThirtyEight Elo → long format\n",
    "# ---------------------------------------------------------------------\n",
    "elo_538_raw = pd.read_csv(DATA_DIR / \"nbaallelo.csv\")\n",
    "elo_538_raw[\"date_game\"] = pd.to_datetime(elo_538_raw[\"date_game\"]).dt.date\n",
    "\n",
    "elo_team1 = (\n",
    "    elo_538_raw[[\"date_game\", \"team_id\", \"elo_i\", \"elo_n\", \"is_playoffs\"]]\n",
    "      .rename(columns={\"team_id\": \"TEAM_ABBREVIATION\",\n",
    "                       \"elo_i\": \"elo_pre_538\",\n",
    "                       \"elo_n\": \"elo_post_538\"})\n",
    ")\n",
    "elo_team2 = (\n",
    "    elo_538_raw[[\"date_game\", \"opp_id\", \"opp_elo_i\", \"opp_elo_n\", \"is_playoffs\"]]\n",
    "      .rename(columns={\"opp_id\": \"TEAM_ABBREVIATION\",\n",
    "                       \"opp_elo_i\": \"elo_pre_538\",\n",
    "                       \"opp_elo_n\": \"elo_post_538\"})\n",
    ")\n",
    "\n",
    "elo_538_long = pd.concat([elo_team1, elo_team2], ignore_index=True)"
   ]
  },
  {
   "cell_type": "code",
   "execution_count": 70,
   "id": "7b9c3237",
   "metadata": {},
   "outputs": [],
   "source": [
    "# ---------------------------------------------------------------------\n",
    "# 4.  Reconcile historical team codes (minimal starter dict)\n",
    "# ---------------------------------------------------------------------\n",
    "alias = {\n",
    "    \"NJN\": \"BKN\", \"BRK\": \"BKN\",   # Nets\n",
    "    \"NOH\": \"NOP\", \"NOK\": \"NOP\",   # Pelicans\n",
    "    \"CHH\": \"CHA\",                 # Old Hornets\n",
    "    \"SEA\": \"OKC\",                 # Sonics → Thunder\n",
    "}\n",
    "kaggle_long[\"team_abbreviation_home\"] = kaggle_long[\"team_abbreviation_home\"].replace(alias)\n",
    "\n",
    "kaggle_long.rename(columns={\"team_abbreviation_home\": \"TEAM_ABBREVIATION\"}, inplace=True)\n",
    "\n",
    "elo_538_long.rename(columns={\"team_id\": \"TEAM_ABBREVIATION\"}, inplace=True)\n",
    "elo_538_long[\"TEAM_ABBREVIATION\"] = elo_538_long[\"TEAM_ABBREVIATION\"].replace(alias)\n"
   ]
  },
  {
   "cell_type": "code",
   "execution_count": 92,
   "id": "617e295d",
   "metadata": {},
   "outputs": [],
   "source": [
    "# ---------------------------------------------------------------------\n",
    "# 5.  Merge on date + franchise code\n",
    "# ---------------------------------------------------------------------\n",
    "\n",
    "# TO DO: Merge in a way that keeps both teams that played the game\n",
    "# TO do: The source of the problem is that Kaggle has one row per game,\n",
    "# and FiveThirtyEight has one row per team per game. Need to find whether Kaggle has both teams listed as separate rows before they were put into long format.\n",
    "# Problem is that we merged based on date and team code \n",
    "merged = kaggle_long.merge(\n",
    "    elo_538_long,\n",
    "    on=[\"date_game\", \"TEAM_ABBREVIATION\"],\n",
    "    how=\"inner\"\n",
    ")"
   ]
  },
  {
   "cell_type": "code",
   "execution_count": 93,
   "id": "092a8f52",
   "metadata": {},
   "outputs": [
    {
     "data": {
      "text/plain": [
       "Index(['game_id', 'TEAM_ABBREVIATION', 'pts_home', 'team_abbreviation_away',\n",
       "       'season_id', 'game_date', 'wl_home', 'fgm_home', 'fga_home',\n",
       "       'fg_pct_home', 'fg3m_home', 'fg3a_home', 'fg3_pct_home', 'ftm_home',\n",
       "       'fta_home', 'ft_pct_home', 'oreb_home', 'dreb_home', 'reb_home',\n",
       "       'ast_home', 'stl_home', 'blk_home', 'tov_home', 'pf_home',\n",
       "       'plus_minus_home', 'matchup_away', 'wl_away', 'fgm_away', 'fga_away',\n",
       "       'fg_pct_away', 'fg3m_away', 'fg3a_away', 'fg3_pct_away', 'ftm_away',\n",
       "       'fta_away', 'ft_pct_away', 'oreb_away', 'dreb_away', 'reb_away',\n",
       "       'ast_away', 'stl_away', 'blk_away', 'tov_away', 'pf_away', 'pts_away',\n",
       "       'plus_minus_away', 'date_game', 'elo_pre_538', 'elo_post_538',\n",
       "       'is_playoffs'],\n",
       "      dtype='object')"
      ]
     },
     "execution_count": 93,
     "metadata": {},
     "output_type": "execute_result"
    }
   ],
   "source": [
    "merged.columns"
   ]
  },
  {
   "cell_type": "code",
   "execution_count": 107,
   "id": "1bd1518e",
   "metadata": {},
   "outputs": [
    {
     "name": "stderr",
     "output_type": "stream",
     "text": [
      "/var/folders/xq/z90fxfv513nfkp28682x0phh0000gn/T/ipykernel_64177/467843288.py:20: SettingWithCopyWarning: \n",
      "A value is trying to be set on a copy of a slice from a DataFrame\n",
      "\n",
      "See the caveats in the documentation: https://pandas.pydata.org/pandas-docs/stable/user_guide/indexing.html#returning-a-view-versus-a-copy\n",
      "  copy_1_df.rename(columns=swap_mapping, inplace=True)\n",
      "/var/folders/xq/z90fxfv513nfkp28682x0phh0000gn/T/ipykernel_64177/467843288.py:39: SettingWithCopyWarning: \n",
      "A value is trying to be set on a copy of a slice from a DataFrame\n",
      "\n",
      "See the caveats in the documentation: https://pandas.pydata.org/pandas-docs/stable/user_guide/indexing.html#returning-a-view-versus-a-copy\n",
      "  copy_1_df.rename(columns=final_rename_mapping, inplace=True)\n"
     ]
    }
   ],
   "source": [
    "# Currently, the merged DataFrame has duplicate rows for each game. We need to take each duplicate and swap the columns for the two teams, so that we have a single row per game with both teams' data.\n",
    "\n",
    "# Taking every other row and swapping the columns for the two teams\n",
    "copy_1_df = merged[::2]\n",
    "\n",
    "# Swap 'A' and 'B' column names\n",
    "swap_mapping = {'TEAM_ABBREVIATION': 'team_abbreviation_away_temp', 'pts_home':'pts_away_temp', 'wl_home':'wl_away_temp',\n",
    "                'fgm_home':'fgm_away_temp', 'fga_home':'fga_away_temp', 'fg_pct_home':'fg_pct_away_temp', \n",
    "                'fg3m_home':'fg3m_away_temp', 'fg3a_home':'fg3a_away_temp', 'fg3_pct_home':'fg3_pct_away_temp',\n",
    "       'ftm_home':'ftm_away_temp', 'fta_home':'fta_away_temp', 'ft_pct_home':'ft_pct_away_temp', 'oreb_home':'oreb_away_temp', 'dreb_home': 'dreb_away_temp',\n",
    "       'reb_home':'reb_away_temp', 'ast_home':'ast_away_temp', 'stl_home':'stl_away_temp', 'blk_home':'blk_away_temp',\n",
    "       'tov_home':'tov_away_temp', 'pf_home':'pf_away_temp', 'plus_minus_home':'plus_minus_away_temp', 'matchup_home':'matchup_away_temp',\n",
    "       # away names also being swapped\n",
    "       'team_abbreviation_away':'TEAM_ABBREVIATION_temp', 'pts_away':'pts_home_temp', 'matchup_away':'matchup_home_temp',\n",
    "       'wl_away':'wl_home_temp', 'fgm_away':'fgm_home_temp', 'fga_away':'fga_home_temp', 'fg_pct_away':'fg_pct_home_temp',\n",
    "       'fg3m_away':'fg3m_home_temp', 'fg3a_away':'fg3a_home_temp', \n",
    "       'fg3_pct_away':'fg3_pct_home_temp', 'ftm_away':'ftm_home_temp', 'fta_away':'fta_home_temp', 'ft_pct_away':'ft_pct_home_temp', 'oreb_away':'oreb_home_temp',\n",
    "       'dreb_away':'dreb_home_temp', 'reb_away':'reb_home_temp', 'ast_away':'ast_home_temp', 'stl_away':'stl_home_temp', \n",
    "       'blk_away':'blk_home_temp', 'tov_away':'tov_home_temp', 'pf_away':'pf_home_temp', 'plus_minus_away':\"plus_minus_home_temp\"} # Using temporary names\n",
    "copy_1_df.rename(columns=swap_mapping, inplace=True)\n",
    "\n",
    "# Now rename the temporary names to their final desired names\n",
    "final_rename_mapping = {'team_abbreviation_away_temp':'team_abbreviation_away', 'pts_away_temp': 'pts_away', \n",
    "                        'wl_away_temp': 'wl_away', 'fgm_away_temp': 'fgm_away', 'fga_away_temp': 'fga_away',\n",
    "                        'fg_pct_away_temp': 'fg_pct_away', 'fg3m_away_temp': 'fg3m_away', 'fg3a_away_temp': 'fg3a_away',\n",
    "                        'fg3_pct_away_temp': 'fg3_pct_away', 'ftm_away_temp': 'ftm_away', 'fta_away_temp': 'fta_away',\n",
    "                        'ft_pct_away_temp': 'ft_pct_away', 'oreb_away_temp': 'oreb_away', 'dreb_away_temp': 'dreb_away',\n",
    "                        'reb_away_temp': 'reb_away', 'ast_away_temp': 'ast_away', 'stl_away_temp': 'stl_away', 'matchup_away_temp': 'matchup_away',\n",
    "                        'blk_away_temp': 'blk_away', 'tov_away_temp': 'tov_away', 'pf_away_temp': 'pf_away', 'plus_minus_away_temp':'plus_minus_away',\n",
    "                        # Now swap the home team columns back to their original names, with the away and home teams swapped\n",
    "                        \"TEAM_ABBREVIATION_temp\": \"TEAM_ABBREVIATION\", \"matchup_home_temp\":\"matchup_home\", 'wl_home_temp': \"wl_home\",\n",
    "                        \"pts_home_temp\": \"pts_home\", \"fgm_home_temp\": \"fgm_home\", \"fga_home_temp\": \"fga_home\",\n",
    "                        \"fg_pct_home_temp\": \"fg_pct_home\", \"fg3m_home_temp\": \"fg3m_home\", \"fg3a_home_temp\": \"fg3a_home\",\n",
    "                        \"fg3_pct_home_temp\": \"fg3_pct_home\", \"ftm_home_temp\": \"ftm_home\", \"fta_home_temp\": \"fta_home\",\n",
    "                        \"ft_pct_home_temp\": \"ft_pct_home\", \"oreb_home_temp\": \"oreb_home\", \"dreb_home_temp\": \"dreb_home\",\n",
    "                        \"reb_home_temp\": \"reb_home\", \"ast_home_temp\": \"ast_home\", \"stl_home_temp\": \"stl_home\",\n",
    "                        \"blk_home_temp\": \"blk_home\", \"tov_home_temp\": \"tov_home\", \"pf_home_temp\": \"pf_home\", \"plus_minus_home_temp\": \"plus_minus_home\"\n",
    "                        }\n",
    "copy_1_df.rename(columns=final_rename_mapping, inplace=True)\n",
    "\n",
    "# new_column_order = ['game_id', 'TEAM_ABBREVIATION', 'pts_home', 'team_abbreviation_away',\n",
    "#        'season_id', 'game_date', 'wl_home', 'fgm_home', 'fga_home',\n",
    "#        'fg_pct_home', 'fg3m_home', 'fg3a_home', 'fg3_pct_home', 'ftm_home',\n",
    "#        'fta_home', 'ft_pct_home', 'oreb_home', 'dreb_home', 'reb_home',\n",
    "#        'ast_home', 'stl_home', 'blk_home', 'tov_home', 'pf_home',\n",
    "#        'plus_minus_home', 'matchup_away', 'wl_away', 'fgm_away', 'fga_away',\n",
    "#        'fg_pct_away', 'fg3m_away', 'fg3a_away', 'fg3_pct_away', 'ftm_away',\n",
    "#        'fta_away', 'ft_pct_away', 'oreb_away', 'dreb_away', 'reb_away',\n",
    "#        'ast_away', 'stl_away', 'blk_away', 'tov_away', 'pf_away', 'pts_away',\n",
    "#        'plus_minus_away', 'date_game', 'elo_pre_538', 'elo_post_538',\n",
    "#        'is_playoffs']\n",
    "\n",
    "# copy_1_df = copy_1_df[new_column_order]"
   ]
  },
  {
   "cell_type": "code",
   "execution_count": 85,
   "id": "ae9aed2c",
   "metadata": {},
   "outputs": [
    {
     "data": {
      "text/plain": [
       "Index(['game_id', 'TEAM_ABBREVIATION', 'pts_home', 'team_abbreviation_away',\n",
       "       'season_id', 'game_date', 'wl_home', 'fgm_home', 'fga_home',\n",
       "       'fg_pct_home', 'fg3m_home', 'fg3a_home', 'fg3_pct_home', 'ftm_home',\n",
       "       'fta_home', 'ft_pct_home', 'oreb_home', 'dreb_home', 'reb_home',\n",
       "       'ast_home', 'stl_home', 'blk_home', 'tov_home', 'pf_home',\n",
       "       'plus_minus_home', 'matchup_away', 'wl_away', 'fgm_away', 'fga_away',\n",
       "       'fg_pct_away', 'fg3m_away', 'fg3a_away', 'fg3_pct_away', 'ftm_away',\n",
       "       'fta_away', 'ft_pct_away', 'oreb_away', 'dreb_away', 'reb_away',\n",
       "       'ast_away', 'stl_away', 'blk_away', 'tov_away', 'pf_away', 'pts_away',\n",
       "       'plus_minus_away', 'date_game', 'elo_pre_538', 'elo_post_538',\n",
       "       'is_playoffs'],\n",
       "      dtype='object')"
      ]
     },
     "execution_count": 85,
     "metadata": {},
     "output_type": "execute_result"
    }
   ],
   "source": [
    "copy_2_df.columns"
   ]
  },
  {
   "cell_type": "code",
   "execution_count": 108,
   "id": "596ddeb8",
   "metadata": {},
   "outputs": [],
   "source": [
    "copy_2_df = merged[1::2]\n",
    "final_merged = pd.concat([copy_1_df, copy_2_df], axis=0, ignore_index=True)\n",
    "#final_merged = final_merged.sort_values(by='game_date', ascending=True)\n"
   ]
  },
  {
   "cell_type": "code",
   "execution_count": 112,
   "id": "88e72645",
   "metadata": {},
   "outputs": [
    {
     "data": {
      "text/html": [
       "<div>\n",
       "<style scoped>\n",
       "    .dataframe tbody tr th:only-of-type {\n",
       "        vertical-align: middle;\n",
       "    }\n",
       "\n",
       "    .dataframe tbody tr th {\n",
       "        vertical-align: top;\n",
       "    }\n",
       "\n",
       "    .dataframe thead th {\n",
       "        text-align: right;\n",
       "    }\n",
       "</style>\n",
       "<table border=\"1\" class=\"dataframe\">\n",
       "  <thead>\n",
       "    <tr style=\"text-align: right;\">\n",
       "      <th></th>\n",
       "      <th>game_id</th>\n",
       "      <th>team_abbreviation_away</th>\n",
       "      <th>pts_away</th>\n",
       "      <th>TEAM_ABBREVIATION</th>\n",
       "      <th>season_id</th>\n",
       "      <th>game_date</th>\n",
       "      <th>wl_away</th>\n",
       "      <th>fgm_away</th>\n",
       "      <th>fga_away</th>\n",
       "      <th>fg_pct_away</th>\n",
       "      <th>...</th>\n",
       "      <th>blk_home</th>\n",
       "      <th>tov_home</th>\n",
       "      <th>pf_home</th>\n",
       "      <th>pts_home</th>\n",
       "      <th>plus_minus_home</th>\n",
       "      <th>date_game</th>\n",
       "      <th>elo_pre_538</th>\n",
       "      <th>elo_post_538</th>\n",
       "      <th>is_playoffs</th>\n",
       "      <th>matchup_away</th>\n",
       "    </tr>\n",
       "  </thead>\n",
       "  <tbody>\n",
       "    <tr>\n",
       "      <th>40351</th>\n",
       "      <td>41400226</td>\n",
       "      <td>MEM</td>\n",
       "      <td>95.0</td>\n",
       "      <td>GSW</td>\n",
       "      <td>42014</td>\n",
       "      <td>2015-05-15 00:00:00</td>\n",
       "      <td>L</td>\n",
       "      <td>34.0</td>\n",
       "      <td>91.0</td>\n",
       "      <td>0.374</td>\n",
       "      <td>...</td>\n",
       "      <td>8.0</td>\n",
       "      <td>12.0</td>\n",
       "      <td>24.0</td>\n",
       "      <td>108.0</td>\n",
       "      <td>13</td>\n",
       "      <td>2015-05-15</td>\n",
       "      <td>1618.0546</td>\n",
       "      <td>1608.3455</td>\n",
       "      <td>1</td>\n",
       "      <td>NaN</td>\n",
       "    </tr>\n",
       "    <tr>\n",
       "      <th>80717</th>\n",
       "      <td>41400226</td>\n",
       "      <td>GSW</td>\n",
       "      <td>108.0</td>\n",
       "      <td>MEM</td>\n",
       "      <td>42014</td>\n",
       "      <td>2015-05-15 00:00:00</td>\n",
       "      <td>W</td>\n",
       "      <td>41.0</td>\n",
       "      <td>81.0</td>\n",
       "      <td>0.506</td>\n",
       "      <td>...</td>\n",
       "      <td>5.0</td>\n",
       "      <td>3.0</td>\n",
       "      <td>16.0</td>\n",
       "      <td>95.0</td>\n",
       "      <td>-13</td>\n",
       "      <td>2015-05-15</td>\n",
       "      <td>1618.0546</td>\n",
       "      <td>1608.3455</td>\n",
       "      <td>1</td>\n",
       "      <td>GSW @ MEM</td>\n",
       "    </tr>\n",
       "  </tbody>\n",
       "</table>\n",
       "<p>2 rows × 51 columns</p>\n",
       "</div>"
      ],
      "text/plain": [
       "        game_id team_abbreviation_away  pts_away TEAM_ABBREVIATION  season_id  \\\n",
       "40351  41400226                    MEM      95.0               GSW      42014   \n",
       "80717  41400226                    GSW     108.0               MEM      42014   \n",
       "\n",
       "                 game_date wl_away  fgm_away  fga_away  fg_pct_away  ...  \\\n",
       "40351  2015-05-15 00:00:00       L      34.0      91.0        0.374  ...   \n",
       "80717  2015-05-15 00:00:00       W      41.0      81.0        0.506  ...   \n",
       "\n",
       "       blk_home  tov_home  pf_home  pts_home  plus_minus_home   date_game  \\\n",
       "40351       8.0      12.0     24.0     108.0               13  2015-05-15   \n",
       "80717       5.0       3.0     16.0      95.0              -13  2015-05-15   \n",
       "\n",
       "       elo_pre_538  elo_post_538  is_playoffs  matchup_away  \n",
       "40351    1618.0546     1608.3455            1           NaN  \n",
       "80717    1618.0546     1608.3455            1     GSW @ MEM  \n",
       "\n",
       "[2 rows x 51 columns]"
      ]
     },
     "execution_count": 112,
     "metadata": {},
     "output_type": "execute_result"
    }
   ],
   "source": [
    "final_merged[final_merged[\"game_id\"] == 41400226]"
   ]
  },
  {
   "cell_type": "code",
   "execution_count": 113,
   "id": "93b9d079",
   "metadata": {},
   "outputs": [],
   "source": [
    "# ---------------------------------------------------------------------\n",
    "# 6.  Save the merged DataFrame to a CSV file\n",
    "# ---------------------------------------------------------------------\n",
    "final_merged.to_csv(\"data/raw/combined_kaggle_538_elo.csv\", index=False)"
   ]
  },
  {
   "cell_type": "code",
   "execution_count": null,
   "id": "7cf43d3d",
   "metadata": {},
   "outputs": [],
   "source": []
  }
 ],
 "metadata": {
  "kernelspec": {
   "display_name": "erdos_summer_2025",
   "language": "python",
   "name": "python3"
  },
  "language_info": {
   "codemirror_mode": {
    "name": "ipython",
    "version": 3
   },
   "file_extension": ".py",
   "mimetype": "text/x-python",
   "name": "python",
   "nbconvert_exporter": "python",
   "pygments_lexer": "ipython3",
   "version": "3.12.10"
  }
 },
 "nbformat": 4,
 "nbformat_minor": 5
}
