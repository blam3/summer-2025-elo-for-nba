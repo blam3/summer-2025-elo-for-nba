{
 "cells": [
  {
   "cell_type": "code",
   "execution_count": 1,
   "id": "a255386c",
   "metadata": {},
   "outputs": [],
   "source": [
    "import pandas as pd\n",
    "from pathlib import Path\n",
    "import io, requests"
   ]
  },
  {
   "cell_type": "code",
   "execution_count": 2,
   "id": "e336f02d",
   "metadata": {},
   "outputs": [],
   "source": [
    "# ---------------------------------------------------------------------\n",
    "# 1.  Load Kaggle game metadata (date, season, id)\n",
    "# ---------------------------------------------------------------------\n",
    "CSV_DIR   = Path(\"data/csv\")\n",
    "DATA_DIR  = Path(\"data\")\n",
    "\n",
    "game_df = pd.read_csv(CSV_DIR / \"game.csv\",\n",
    "                      usecols=[\"game_id\", \"game_date\", \"season_id\"])\n",
    "game_df[\"date_game\"] = pd.to_datetime(game_df[\"game_date\"]).dt.date"
   ]
  },
  {
   "cell_type": "code",
   "execution_count": 3,
   "id": "c483a02b",
   "metadata": {},
   "outputs": [],
   "source": [
    "# ---------------------------------------------------------------------\n",
    "# 2.  Load Kaggle line scores (already 1 row per TEAM per GAME)\n",
    "# ---------------------------------------------------------------------\n",
    "line_df = pd.read_csv(CSV_DIR / \"line_score.csv\",\n",
    "                      usecols=[\"game_id\", \"team_abbreviation_home\", \"pts_home\"])\n",
    "\n",
    "# bring in the date + season\n",
    "kaggle_long = line_df.merge(game_df[[\"game_id\", \"date_game\", \"season_id\"]],\n",
    "                            on=\"game_id\", how=\"left\")"
   ]
  },
  {
   "cell_type": "code",
   "execution_count": 4,
   "id": "75d7e56b",
   "metadata": {},
   "outputs": [],
   "source": [
    "# ---------------------------------------------------------------------\n",
    "# 3.  Load & reshape FiveThirtyEight Elo → long format\n",
    "# ---------------------------------------------------------------------\n",
    "elo_raw = pd.read_csv(DATA_DIR / \"nbaallelo.csv\")\n",
    "elo_raw[\"date_game\"] = pd.to_datetime(elo_raw[\"date_game\"]).dt.date\n",
    "\n",
    "elo_team1 = (\n",
    "    elo_raw[[\"date_game\", \"team_id\", \"elo_i\", \"elo_n\"]]\n",
    "      .rename(columns={\"team_id\": \"TEAM_ABBREVIATION\",\n",
    "                       \"elo_i\": \"elo_pre_538\",\n",
    "                       \"elo_n\": \"elo_post_538\"})\n",
    ")\n",
    "elo_team2 = (\n",
    "    elo_raw[[\"date_game\", \"opp_id\", \"opp_elo_i\", \"opp_elo_n\"]]\n",
    "      .rename(columns={\"opp_id\": \"TEAM_ABBREVIATION\",\n",
    "                       \"opp_elo_i\": \"elo_pre_538\",\n",
    "                       \"opp_elo_n\": \"elo_post_538\"})\n",
    ")\n",
    "\n",
    "elo_long = pd.concat([elo_team1, elo_team2], ignore_index=True)"
   ]
  },
  {
   "cell_type": "code",
   "execution_count": 5,
   "id": "7b9c3237",
   "metadata": {},
   "outputs": [],
   "source": [
    "# ---------------------------------------------------------------------\n",
    "# 4.  Reconcile historical team codes (minimal starter dict)\n",
    "# ---------------------------------------------------------------------\n",
    "alias = {\n",
    "    \"NJN\": \"BKN\", \"BRK\": \"BKN\",   # Nets\n",
    "    \"NOH\": \"NOP\", \"NOK\": \"NOP\",   # Pelicans\n",
    "    \"CHH\": \"CHA\",                 # Old Hornets\n",
    "    \"SEA\": \"OKC\",                 # Sonics → Thunder\n",
    "}\n",
    "kaggle_long[\"team_abbreviation_home\"] = kaggle_long[\"team_abbreviation_home\"].replace(alias)\n",
    "kaggle_long.rename(columns={\"team_abbreviation_home\": \"TEAM_ABBREVIATION\"}, inplace=True)\n",
    "elo_long[\"TEAM_ABBREVIATION\"] = elo_long[\"TEAM_ABBREVIATION\"].replace(alias)"
   ]
  },
  {
   "cell_type": "code",
   "execution_count": 6,
   "id": "617e295d",
   "metadata": {},
   "outputs": [],
   "source": [
    "# ---------------------------------------------------------------------\n",
    "# 5.  Merge on date + franchise code\n",
    "# ---------------------------------------------------------------------\n",
    "merged = kaggle_long.merge(\n",
    "    elo_long,\n",
    "    on=[\"date_game\", \"TEAM_ABBREVIATION\"],\n",
    "    how=\"inner\"\n",
    ")"
   ]
  },
  {
   "cell_type": "code",
   "execution_count": 7,
   "id": "c136bae6",
   "metadata": {},
   "outputs": [
    {
     "data": {
      "application/vnd.microsoft.datawrangler.viewer.v0+json": {
       "columns": [
        {
         "name": "index",
         "rawType": "int64",
         "type": "integer"
        },
        {
         "name": "game_id",
         "rawType": "int64",
         "type": "integer"
        },
        {
         "name": "TEAM_ABBREVIATION",
         "rawType": "object",
         "type": "string"
        },
        {
         "name": "pts_home",
         "rawType": "float64",
         "type": "float"
        },
        {
         "name": "date_game",
         "rawType": "object",
         "type": "unknown"
        },
        {
         "name": "season_id",
         "rawType": "int64",
         "type": "integer"
        },
        {
         "name": "elo_pre_538",
         "rawType": "float64",
         "type": "float"
        },
        {
         "name": "elo_post_538",
         "rawType": "float64",
         "type": "float"
        }
       ],
       "ref": "35ffc676-afab-480d-9f5a-3cd948577d27",
       "rows": [
        [
         "0",
         "24600002",
         "BOS",
         "53.0",
         "1946-11-02",
         "21946",
         "1300.0",
         "1294.8458"
        ],
        [
         "1",
         "24600002",
         "BOS",
         "53.0",
         "1946-11-02",
         "21946",
         "1300.0",
         "1294.8458"
        ],
        [
         "2",
         "24600004",
         "CHS",
         "63.0",
         "1946-11-02",
         "21946",
         "1300.0",
         "1309.6521"
        ],
        [
         "3",
         "24600004",
         "CHS",
         "63.0",
         "1946-11-02",
         "21946",
         "1300.0",
         "1309.6521"
        ],
        [
         "4",
         "24600008",
         "BOS",
         "55.0",
         "1946-11-05",
         "21946",
         "1294.8458",
         "1288.4139"
        ]
       ],
       "shape": {
        "columns": 7,
        "rows": 5
       }
      },
      "text/html": [
       "<div>\n",
       "<style scoped>\n",
       "    .dataframe tbody tr th:only-of-type {\n",
       "        vertical-align: middle;\n",
       "    }\n",
       "\n",
       "    .dataframe tbody tr th {\n",
       "        vertical-align: top;\n",
       "    }\n",
       "\n",
       "    .dataframe thead th {\n",
       "        text-align: right;\n",
       "    }\n",
       "</style>\n",
       "<table border=\"1\" class=\"dataframe\">\n",
       "  <thead>\n",
       "    <tr style=\"text-align: right;\">\n",
       "      <th></th>\n",
       "      <th>game_id</th>\n",
       "      <th>TEAM_ABBREVIATION</th>\n",
       "      <th>pts_home</th>\n",
       "      <th>date_game</th>\n",
       "      <th>season_id</th>\n",
       "      <th>elo_pre_538</th>\n",
       "      <th>elo_post_538</th>\n",
       "    </tr>\n",
       "  </thead>\n",
       "  <tbody>\n",
       "    <tr>\n",
       "      <th>0</th>\n",
       "      <td>24600002</td>\n",
       "      <td>BOS</td>\n",
       "      <td>53.0</td>\n",
       "      <td>1946-11-02</td>\n",
       "      <td>21946</td>\n",
       "      <td>1300.0000</td>\n",
       "      <td>1294.8458</td>\n",
       "    </tr>\n",
       "    <tr>\n",
       "      <th>1</th>\n",
       "      <td>24600002</td>\n",
       "      <td>BOS</td>\n",
       "      <td>53.0</td>\n",
       "      <td>1946-11-02</td>\n",
       "      <td>21946</td>\n",
       "      <td>1300.0000</td>\n",
       "      <td>1294.8458</td>\n",
       "    </tr>\n",
       "    <tr>\n",
       "      <th>2</th>\n",
       "      <td>24600004</td>\n",
       "      <td>CHS</td>\n",
       "      <td>63.0</td>\n",
       "      <td>1946-11-02</td>\n",
       "      <td>21946</td>\n",
       "      <td>1300.0000</td>\n",
       "      <td>1309.6521</td>\n",
       "    </tr>\n",
       "    <tr>\n",
       "      <th>3</th>\n",
       "      <td>24600004</td>\n",
       "      <td>CHS</td>\n",
       "      <td>63.0</td>\n",
       "      <td>1946-11-02</td>\n",
       "      <td>21946</td>\n",
       "      <td>1300.0000</td>\n",
       "      <td>1309.6521</td>\n",
       "    </tr>\n",
       "    <tr>\n",
       "      <th>4</th>\n",
       "      <td>24600008</td>\n",
       "      <td>BOS</td>\n",
       "      <td>55.0</td>\n",
       "      <td>1946-11-05</td>\n",
       "      <td>21946</td>\n",
       "      <td>1294.8458</td>\n",
       "      <td>1288.4139</td>\n",
       "    </tr>\n",
       "  </tbody>\n",
       "</table>\n",
       "</div>"
      ],
      "text/plain": [
       "    game_id TEAM_ABBREVIATION  pts_home   date_game  season_id  elo_pre_538  \\\n",
       "0  24600002               BOS      53.0  1946-11-02      21946    1300.0000   \n",
       "1  24600002               BOS      53.0  1946-11-02      21946    1300.0000   \n",
       "2  24600004               CHS      63.0  1946-11-02      21946    1300.0000   \n",
       "3  24600004               CHS      63.0  1946-11-02      21946    1300.0000   \n",
       "4  24600008               BOS      55.0  1946-11-05      21946    1294.8458   \n",
       "\n",
       "   elo_post_538  \n",
       "0     1294.8458  \n",
       "1     1294.8458  \n",
       "2     1309.6521  \n",
       "3     1309.6521  \n",
       "4     1288.4139  "
      ]
     },
     "execution_count": 7,
     "metadata": {},
     "output_type": "execute_result"
    }
   ],
   "source": [
    "merged.head()"
   ]
  },
  {
   "cell_type": "code",
   "execution_count": null,
   "id": "1cd4587f",
   "metadata": {},
   "outputs": [],
   "source": []
  }
 ],
 "metadata": {
  "kernelspec": {
   "display_name": "erdos_summer_2025_project",
   "language": "python",
   "name": "python3"
  },
  "language_info": {
   "codemirror_mode": {
    "name": "ipython",
    "version": 3
   },
   "file_extension": ".py",
   "mimetype": "text/x-python",
   "name": "python",
   "nbconvert_exporter": "python",
   "pygments_lexer": "ipython3",
   "version": "3.12.11"
  }
 },
 "nbformat": 4,
 "nbformat_minor": 5
}
