{
 "cells": [
  {
   "cell_type": "code",
   "execution_count": 57,
   "id": "a255386c",
   "metadata": {},
   "outputs": [],
   "source": [
    "import pandas as pd\n",
    "from pathlib import Path\n",
    "import io, requests"
   ]
  },
  {
   "cell_type": "markdown",
   "id": "5af1eea0",
   "metadata": {},
   "source": [
    "All columns from the kaggle dataset:\n",
    "\n",
    "`Index(['season_id', 'team_id_home', 'team_abbreviation_home', 'team_name_home',\n",
    "       'game_id', 'game_date', 'matchup_home', 'wl_home', 'min', 'fgm_home',\n",
    "       'fga_home', 'fg_pct_home', 'fg3m_home', 'fg3a_home', 'fg3_pct_home',\n",
    "       'ftm_home', 'fta_home', 'ft_pct_home', 'oreb_home', 'dreb_home',\n",
    "       'reb_home', 'ast_home', 'stl_home', 'blk_home', 'tov_home', 'pf_home',\n",
    "       'pts_home', 'plus_minus_home', 'video_available_home', 'team_id_away',\n",
    "       'team_abbreviation_away', 'team_name_away', 'matchup_away', 'wl_away',\n",
    "       'fgm_away', 'fga_away', 'fg_pct_away', 'fg3m_away', 'fg3a_away',\n",
    "       'fg3_pct_away', 'ftm_away', 'fta_away', 'ft_pct_away', 'oreb_away',\n",
    "       'dreb_away', 'reb_away', 'ast_away', 'stl_away', 'blk_away', 'tov_away',\n",
    "       'pf_away', 'pts_away', 'plus_minus_away', 'video_available_away',\n",
    "       'season_type'],\n",
    "      dtype='object')`"
   ]
  },
  {
   "cell_type": "code",
   "execution_count": 59,
   "id": "e336f02d",
   "metadata": {},
   "outputs": [],
   "source": [
    "# ---------------------------------------------------------------------\n",
    "# 1.  Load Kaggle game metadata (date, season, id)\n",
    "# ---------------------------------------------------------------------\n",
    "CSV_DIR   = Path(\"data/csv\")\n",
    "DATA_DIR  = Path(\"data\")\n",
    "\n",
    "game_df = pd.read_csv(CSV_DIR / \"game.csv\",\n",
    "                      usecols=[\"game_id\", \"game_date\", \"season_id\", \"wl_home\", 'fgm_home',\n",
    "       'fga_home', 'fg_pct_home', 'fg3m_home', 'fg3a_home', 'fg3_pct_home',\n",
    "       'ftm_home', 'fta_home', 'ft_pct_home', 'oreb_home', 'dreb_home',\n",
    "       'reb_home', 'ast_home', 'stl_home', 'blk_home', 'tov_home', 'pf_home',\n",
    "       'plus_minus_home', 'team_id_away',\n",
    "       'team_name_away', 'matchup_away', \n",
    "       'fgm_away', 'fga_away', 'fg_pct_away', 'fg3m_away', 'fg3a_away',\n",
    "       'fg3_pct_away', 'ftm_away', 'fta_away', 'ft_pct_away', 'oreb_away',\n",
    "       'dreb_away', 'reb_away', 'ast_away', 'stl_away', 'blk_away', 'tov_away',\n",
    "       'pf_away', 'plus_minus_away'])\n",
    "game_df[\"date_game\"] = pd.to_datetime(game_df[\"game_date\"]).dt.date"
   ]
  },
  {
   "cell_type": "code",
   "execution_count": 60,
   "id": "c483a02b",
   "metadata": {},
   "outputs": [],
   "source": [
    "# ---------------------------------------------------------------------\n",
    "# 2.  Load Kaggle line scores (already 1 row per TEAM per GAME)\n",
    "# ---------------------------------------------------------------------\n",
    "line_df = pd.read_csv(CSV_DIR / \"line_score.csv\",\n",
    "                      usecols=[\"game_id\", \"team_abbreviation_home\", \"pts_home\"])\n",
    "\n",
    "# bring in the date + season\n",
    "kaggle_long = line_df.merge(game_df,\n",
    "                            on=\"game_id\", how=\"inner\")"
   ]
  },
  {
   "cell_type": "code",
   "execution_count": 61,
   "id": "75d7e56b",
   "metadata": {},
   "outputs": [],
   "source": [
    "# ---------------------------------------------------------------------\n",
    "# 3.  Load & reshape FiveThirtyEight Elo → long format\n",
    "# ---------------------------------------------------------------------\n",
    "elo_538_raw = pd.read_csv(DATA_DIR / \"nbaallelo.csv\")\n",
    "elo_538_raw[\"date_game\"] = pd.to_datetime(elo_538_raw[\"date_game\"]).dt.date\n",
    "\n",
    "elo_team1 = (\n",
    "    elo_538_raw[[\"date_game\", \"team_id\", \"elo_i\", \"elo_n\"]]\n",
    "      .rename(columns={\"team_id\": \"TEAM_ABBREVIATION\",\n",
    "                       \"elo_i\": \"elo_pre_538\",\n",
    "                       \"elo_n\": \"elo_post_538\"})\n",
    ")\n",
    "elo_team2 = (\n",
    "    elo_538_raw[[\"date_game\", \"opp_id\", \"opp_elo_i\", \"opp_elo_n\"]]\n",
    "      .rename(columns={\"opp_id\": \"TEAM_ABBREVIATION\",\n",
    "                       \"opp_elo_i\": \"elo_pre_538\",\n",
    "                       \"opp_elo_n\": \"elo_post_538\"})\n",
    ")\n",
    "\n",
    "elo_538_long = pd.concat([elo_team1, elo_team2], ignore_index=True)"
   ]
  },
  {
   "cell_type": "code",
   "execution_count": 62,
   "id": "7b9c3237",
   "metadata": {},
   "outputs": [],
   "source": [
    "# ---------------------------------------------------------------------\n",
    "# 4.  Reconcile historical team codes (minimal starter dict)\n",
    "# ---------------------------------------------------------------------\n",
    "alias = {\n",
    "    \"NJN\": \"BKN\", \"BRK\": \"BKN\",   # Nets\n",
    "    \"NOH\": \"NOP\", \"NOK\": \"NOP\",   # Pelicans\n",
    "    \"CHH\": \"CHA\",                 # Old Hornets\n",
    "    \"SEA\": \"OKC\",                 # Sonics → Thunder\n",
    "}\n",
    "kaggle_long[\"team_abbreviation_home\"] = kaggle_long[\"team_abbreviation_home\"].replace(alias)\n",
    "kaggle_long.rename(columns={\"team_abbreviation_home\": \"TEAM_ABBREVIATION\"}, inplace=True)\n",
    "elo_538_long[\"TEAM_ABBREVIATION\"] = elo_538_long[\"TEAM_ABBREVIATION\"].replace(alias)"
   ]
  },
  {
   "cell_type": "code",
   "execution_count": 63,
   "id": "617e295d",
   "metadata": {},
   "outputs": [],
   "source": [
    "# ---------------------------------------------------------------------\n",
    "# 5.  Merge on date + franchise code\n",
    "# ---------------------------------------------------------------------\n",
    "merged = kaggle_long.merge(\n",
    "    elo_538_long,\n",
    "    on=[\"date_game\", \"TEAM_ABBREVIATION\"],\n",
    "    how=\"inner\"\n",
    ")"
   ]
  },
  {
   "cell_type": "code",
   "execution_count": 64,
   "id": "93b9d079",
   "metadata": {},
   "outputs": [],
   "source": [
    "# ---------------------------------------------------------------------\n",
    "# 6.  Save the merged DataFrame to a CSV file\n",
    "# ---------------------------------------------------------------------\n",
    "merged.to_csv(\"data/raw/combined_kaggle_538_elo.csv\", index=False)\n"
   ]
  }
 ],
 "metadata": {
  "kernelspec": {
   "display_name": "erdos_summer_2025",
   "language": "python",
   "name": "python3"
  },
  "language_info": {
   "codemirror_mode": {
    "name": "ipython",
    "version": 3
   },
   "file_extension": ".py",
   "mimetype": "text/x-python",
   "name": "python",
   "nbconvert_exporter": "python",
   "pygments_lexer": "ipython3",
   "version": "3.12.10"
  }
 },
 "nbformat": 4,
 "nbformat_minor": 5
}
